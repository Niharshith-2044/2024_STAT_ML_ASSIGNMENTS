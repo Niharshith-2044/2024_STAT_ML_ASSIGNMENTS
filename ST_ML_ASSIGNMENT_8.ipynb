{
  "nbformat": 4,
  "nbformat_minor": 0,
  "metadata": {
    "colab": {
      "provenance": [],
      "authorship_tag": "ABX9TyPLp/hoMomJja0ukzaOk6eO",
      "include_colab_link": true
    },
    "kernelspec": {
      "name": "python3",
      "display_name": "Python 3"
    },
    "language_info": {
      "name": "python"
    }
  },
  "cells": [
    {
      "cell_type": "markdown",
      "metadata": {
        "id": "view-in-github",
        "colab_type": "text"
      },
      "source": [
        "<a href=\"https://colab.research.google.com/github/Niharshith-2044/2024_STAT_ML_ASSIGNMENTS/blob/main/ST_ML_ASSIGNMENT_8.ipynb\" target=\"_parent\"><img src=\"https://colab.research.google.com/assets/colab-badge.svg\" alt=\"Open In Colab\"/></a>"
      ]
    },
    {
      "cell_type": "code",
      "execution_count": 2,
      "metadata": {
        "colab": {
          "base_uri": "https://localhost:8080/"
        },
        "id": "b23ZhviPiejE",
        "outputId": "65f85929-bdde-442f-8418-f18447859599"
      },
      "outputs": [
        {
          "output_type": "stream",
          "name": "stdout",
          "text": [
            "     Age  Gender Polyuria Polydipsia sudden weight loss weakness Polyphagia  \\\n",
            "0     40    Male       No        Yes                 No      Yes         No   \n",
            "1     58    Male       No         No                 No      Yes         No   \n",
            "2     41    Male      Yes         No                 No      Yes        Yes   \n",
            "3     45    Male       No         No                Yes      Yes        Yes   \n",
            "4     60    Male      Yes        Yes                Yes      Yes        Yes   \n",
            "..   ...     ...      ...        ...                ...      ...        ...   \n",
            "515   39  Female      Yes        Yes                Yes       No        Yes   \n",
            "516   48  Female      Yes        Yes                Yes      Yes        Yes   \n",
            "517   58  Female      Yes        Yes                Yes      Yes        Yes   \n",
            "518   32  Female       No         No                 No      Yes         No   \n",
            "519   42    Male       No         No                 No       No         No   \n",
            "\n",
            "    Genital thrush visual blurring Itching Irritability delayed healing  \\\n",
            "0               No              No     Yes           No             Yes   \n",
            "1               No             Yes      No           No              No   \n",
            "2               No              No     Yes           No             Yes   \n",
            "3              Yes              No     Yes           No             Yes   \n",
            "4               No             Yes     Yes          Yes             Yes   \n",
            "..             ...             ...     ...          ...             ...   \n",
            "515             No              No     Yes           No             Yes   \n",
            "516             No              No     Yes          Yes             Yes   \n",
            "517             No             Yes      No           No              No   \n",
            "518             No             Yes     Yes           No             Yes   \n",
            "519             No              No      No           No              No   \n",
            "\n",
            "    partial paresis muscle stiffness Alopecia Obesity     class  \n",
            "0                No              Yes      Yes     Yes  Positive  \n",
            "1               Yes               No      Yes      No  Positive  \n",
            "2                No              Yes      Yes      No  Positive  \n",
            "3                No               No       No      No  Positive  \n",
            "4               Yes              Yes      Yes     Yes  Positive  \n",
            "..              ...              ...      ...     ...       ...  \n",
            "515             Yes               No       No      No  Positive  \n",
            "516             Yes               No       No      No  Positive  \n",
            "517             Yes              Yes       No     Yes  Positive  \n",
            "518              No               No      Yes      No  Negative  \n",
            "519              No               No       No      No  Negative  \n",
            "\n",
            "[520 rows x 17 columns]\n"
          ]
        }
      ],
      "source": [
        "import pandas as pd\n",
        "import matplotlib.pyplot as plt\n",
        "df = pd.read_csv(\"/content/sample_data/diabetes_data_upload (3).csv\")\n",
        "print(df)"
      ]
    },
    {
      "cell_type": "code",
      "source": [
        "y=df['class']\n",
        "print(y)"
      ],
      "metadata": {
        "colab": {
          "base_uri": "https://localhost:8080/"
        },
        "id": "rdNm2uXxj-vC",
        "outputId": "021d67cc-1e77-48bf-a428-0c21300c2c5c"
      },
      "execution_count": 3,
      "outputs": [
        {
          "output_type": "stream",
          "name": "stdout",
          "text": [
            "0      Positive\n",
            "1      Positive\n",
            "2      Positive\n",
            "3      Positive\n",
            "4      Positive\n",
            "         ...   \n",
            "515    Positive\n",
            "516    Positive\n",
            "517    Positive\n",
            "518    Negative\n",
            "519    Negative\n",
            "Name: class, Length: 520, dtype: object\n"
          ]
        }
      ]
    },
    {
      "cell_type": "code",
      "source": [
        "x=df.drop('class',axis=1)\n",
        "print(x)"
      ],
      "metadata": {
        "colab": {
          "base_uri": "https://localhost:8080/"
        },
        "id": "oXWLL7FplHI4",
        "outputId": "c908078e-6e36-4cd6-8ac5-b4ba153e85bf"
      },
      "execution_count": 4,
      "outputs": [
        {
          "output_type": "stream",
          "name": "stdout",
          "text": [
            "     Age  Gender Polyuria Polydipsia sudden weight loss weakness Polyphagia  \\\n",
            "0     40    Male       No        Yes                 No      Yes         No   \n",
            "1     58    Male       No         No                 No      Yes         No   \n",
            "2     41    Male      Yes         No                 No      Yes        Yes   \n",
            "3     45    Male       No         No                Yes      Yes        Yes   \n",
            "4     60    Male      Yes        Yes                Yes      Yes        Yes   \n",
            "..   ...     ...      ...        ...                ...      ...        ...   \n",
            "515   39  Female      Yes        Yes                Yes       No        Yes   \n",
            "516   48  Female      Yes        Yes                Yes      Yes        Yes   \n",
            "517   58  Female      Yes        Yes                Yes      Yes        Yes   \n",
            "518   32  Female       No         No                 No      Yes         No   \n",
            "519   42    Male       No         No                 No       No         No   \n",
            "\n",
            "    Genital thrush visual blurring Itching Irritability delayed healing  \\\n",
            "0               No              No     Yes           No             Yes   \n",
            "1               No             Yes      No           No              No   \n",
            "2               No              No     Yes           No             Yes   \n",
            "3              Yes              No     Yes           No             Yes   \n",
            "4               No             Yes     Yes          Yes             Yes   \n",
            "..             ...             ...     ...          ...             ...   \n",
            "515             No              No     Yes           No             Yes   \n",
            "516             No              No     Yes          Yes             Yes   \n",
            "517             No             Yes      No           No              No   \n",
            "518             No             Yes     Yes           No             Yes   \n",
            "519             No              No      No           No              No   \n",
            "\n",
            "    partial paresis muscle stiffness Alopecia Obesity  \n",
            "0                No              Yes      Yes     Yes  \n",
            "1               Yes               No      Yes      No  \n",
            "2                No              Yes      Yes      No  \n",
            "3                No               No       No      No  \n",
            "4               Yes              Yes      Yes     Yes  \n",
            "..              ...              ...      ...     ...  \n",
            "515             Yes               No       No      No  \n",
            "516             Yes               No       No      No  \n",
            "517             Yes              Yes       No     Yes  \n",
            "518              No               No      Yes      No  \n",
            "519              No               No       No      No  \n",
            "\n",
            "[520 rows x 16 columns]\n"
          ]
        }
      ]
    },
    {
      "cell_type": "code",
      "source": [
        "from sklearn.model_selection import train_test_split\n",
        "x_train,x_test,y_train,y_test=train_test_split(x,y,test_size=0.2,random_state=40)\n",
        "print(x_train)\n",
        "print(y_train)\n",
        "print(x_test)\n",
        "print(y_test)"
      ],
      "metadata": {
        "colab": {
          "base_uri": "https://localhost:8080/"
        },
        "id": "GVKiuntWlLRX",
        "outputId": "7921d5b4-bb0b-4795-fb54-4e56d6a6c9f4"
      },
      "execution_count": 5,
      "outputs": [
        {
          "output_type": "stream",
          "name": "stdout",
          "text": [
            "     Age  Gender Polyuria Polydipsia sudden weight loss weakness Polyphagia  \\\n",
            "402   43    Male       No         No                 No      Yes         No   \n",
            "194   43    Male       No         No                Yes      Yes        Yes   \n",
            "406   56    Male       No         No                Yes      Yes        Yes   \n",
            "439   49    Male      Yes        Yes                 No      Yes         No   \n",
            "47    60  Female      Yes        Yes                Yes      Yes        Yes   \n",
            "..   ...     ...      ...        ...                ...      ...        ...   \n",
            "440   48    Male      Yes        Yes                 No      Yes         No   \n",
            "165   40  Female      Yes        Yes                Yes      Yes         No   \n",
            "7     66    Male      Yes        Yes                Yes      Yes         No   \n",
            "219   27    Male       No         No                 No       No         No   \n",
            "326   53    Male       No         No                 No      Yes         No   \n",
            "\n",
            "    Genital thrush visual blurring Itching Irritability delayed healing  \\\n",
            "402            Yes              No     Yes           No              No   \n",
            "194            Yes             Yes     Yes          Yes             Yes   \n",
            "406             No             Yes     Yes           No             Yes   \n",
            "439             No             Yes     Yes           No              No   \n",
            "47              No             Yes     Yes           No              No   \n",
            "..             ...             ...     ...          ...             ...   \n",
            "440            Yes             Yes     Yes           No              No   \n",
            "165             No             Yes      No           No             Yes   \n",
            "7               No             Yes     Yes          Yes              No   \n",
            "219             No              No      No           No              No   \n",
            "326             No             Yes     Yes           No             Yes   \n",
            "\n",
            "    partial paresis muscle stiffness Alopecia Obesity  \n",
            "402              No               No      Yes      No  \n",
            "194              No               No       No      No  \n",
            "406              No              Yes      Yes      No  \n",
            "439              No               No       No      No  \n",
            "47              Yes              Yes       No      No  \n",
            "..              ...              ...      ...     ...  \n",
            "440              No               No       No      No  \n",
            "165             Yes              Yes       No      No  \n",
            "7               Yes              Yes       No      No  \n",
            "219              No               No       No      No  \n",
            "326              No              Yes      Yes      No  \n",
            "\n",
            "[416 rows x 16 columns]\n",
            "402    Negative\n",
            "194    Positive\n",
            "406    Negative\n",
            "439    Positive\n",
            "47     Positive\n",
            "         ...   \n",
            "440    Positive\n",
            "165    Positive\n",
            "7      Positive\n",
            "219    Negative\n",
            "326    Negative\n",
            "Name: class, Length: 416, dtype: object\n",
            "     Age  Gender Polyuria Polydipsia sudden weight loss weakness Polyphagia  \\\n",
            "51    50  Female      Yes        Yes                Yes      Yes        Yes   \n",
            "508   58    Male       No         No                 No      Yes         No   \n",
            "393   51  Female       No         No                 No       No         No   \n",
            "464   30    Male       No         No                 No       No         No   \n",
            "243   35    Male       No         No                 No      Yes         No   \n",
            "..   ...     ...      ...        ...                ...      ...        ...   \n",
            "102   90  Female       No        Yes                Yes       No         No   \n",
            "141   62    Male      Yes        Yes                 No       No        Yes   \n",
            "340   39  Female      Yes        Yes                Yes      Yes        Yes   \n",
            "82    50  Female      Yes        Yes                 No      Yes        Yes   \n",
            "18    66    Male      Yes        Yes                 No      Yes        Yes   \n",
            "\n",
            "    Genital thrush visual blurring Itching Irritability delayed healing  \\\n",
            "51              No             Yes      No           No              No   \n",
            "508             No              No     Yes           No             Yes   \n",
            "393            Yes              No     Yes           No             Yes   \n",
            "464             No              No      No           No              No   \n",
            "243             No              No      No           No              No   \n",
            "..             ...             ...     ...          ...             ...   \n",
            "102            Yes             Yes     Yes           No              No   \n",
            "141             No             Yes      No          Yes             Yes   \n",
            "340             No              No     Yes          Yes             Yes   \n",
            "82              No              No      No           No             Yes   \n",
            "18              No             Yes      No           No              No   \n",
            "\n",
            "    partial paresis muscle stiffness Alopecia Obesity  \n",
            "51              Yes               No       No      No  \n",
            "508              No              Yes      Yes      No  \n",
            "393              No               No      Yes      No  \n",
            "464              No               No       No      No  \n",
            "243              No               No       No      No  \n",
            "..              ...              ...      ...     ...  \n",
            "102              No              Yes      Yes      No  \n",
            "141             Yes               No      Yes      No  \n",
            "340             Yes               No       No      No  \n",
            "82              Yes               No       No      No  \n",
            "18              Yes              Yes       No      No  \n",
            "\n",
            "[104 rows x 16 columns]\n",
            "51     Positive\n",
            "508    Negative\n",
            "393    Negative\n",
            "464    Negative\n",
            "243    Negative\n",
            "         ...   \n",
            "102    Positive\n",
            "141    Positive\n",
            "340    Positive\n",
            "82     Positive\n",
            "18     Positive\n",
            "Name: class, Length: 104, dtype: object\n"
          ]
        }
      ]
    },
    {
      "cell_type": "code",
      "source": [
        "mapping = {'Male ': 1, 'Female ': 0}\n",
        "df['Gender'] = df['Gender'].map(mapping)\n",
        "print(df)"
      ],
      "metadata": {
        "colab": {
          "base_uri": "https://localhost:8080/"
        },
        "id": "OKbmT-fDrffz",
        "outputId": "49b5268a-6c75-41f7-9072-2c82e349eb94"
      },
      "execution_count": 7,
      "outputs": [
        {
          "output_type": "stream",
          "name": "stdout",
          "text": [
            "     Age  Gender Polyuria Polydipsia sudden weight loss weakness Polyphagia  \\\n",
            "0     40     NaN       No        Yes                 No      Yes         No   \n",
            "1     58     NaN       No         No                 No      Yes         No   \n",
            "2     41     NaN      Yes         No                 No      Yes        Yes   \n",
            "3     45     NaN       No         No                Yes      Yes        Yes   \n",
            "4     60     NaN      Yes        Yes                Yes      Yes        Yes   \n",
            "..   ...     ...      ...        ...                ...      ...        ...   \n",
            "515   39     NaN      Yes        Yes                Yes       No        Yes   \n",
            "516   48     NaN      Yes        Yes                Yes      Yes        Yes   \n",
            "517   58     NaN      Yes        Yes                Yes      Yes        Yes   \n",
            "518   32     NaN       No         No                 No      Yes         No   \n",
            "519   42     NaN       No         No                 No       No         No   \n",
            "\n",
            "    Genital thrush visual blurring Itching Irritability delayed healing  \\\n",
            "0               No              No     Yes           No             Yes   \n",
            "1               No             Yes      No           No              No   \n",
            "2               No              No     Yes           No             Yes   \n",
            "3              Yes              No     Yes           No             Yes   \n",
            "4               No             Yes     Yes          Yes             Yes   \n",
            "..             ...             ...     ...          ...             ...   \n",
            "515             No              No     Yes           No             Yes   \n",
            "516             No              No     Yes          Yes             Yes   \n",
            "517             No             Yes      No           No              No   \n",
            "518             No             Yes     Yes           No             Yes   \n",
            "519             No              No      No           No              No   \n",
            "\n",
            "    partial paresis muscle stiffness Alopecia Obesity     class  \n",
            "0                No              Yes      Yes     Yes  Positive  \n",
            "1               Yes               No      Yes      No  Positive  \n",
            "2                No              Yes      Yes      No  Positive  \n",
            "3                No               No       No      No  Positive  \n",
            "4               Yes              Yes      Yes     Yes  Positive  \n",
            "..              ...              ...      ...     ...       ...  \n",
            "515             Yes               No       No      No  Positive  \n",
            "516             Yes               No       No      No  Positive  \n",
            "517             Yes              Yes       No     Yes  Positive  \n",
            "518              No               No      Yes      No  Negative  \n",
            "519              No               No       No      No  Negative  \n",
            "\n",
            "[520 rows x 17 columns]\n"
          ]
        }
      ]
    },
    {
      "cell_type": "code",
      "source": [
        "replace= df.replace({'No': 0, 'Yes': 1})\n",
        "print(replace)"
      ],
      "metadata": {
        "colab": {
          "base_uri": "https://localhost:8080/"
        },
        "id": "0s2EeN1krlmE",
        "outputId": "41fc311b-14f2-4efb-c6d1-3b37f95d213c"
      },
      "execution_count": 8,
      "outputs": [
        {
          "output_type": "stream",
          "name": "stdout",
          "text": [
            "     Age  Gender  Polyuria  Polydipsia  sudden weight loss  weakness  \\\n",
            "0     40     NaN         0           1                   0         1   \n",
            "1     58     NaN         0           0                   0         1   \n",
            "2     41     NaN         1           0                   0         1   \n",
            "3     45     NaN         0           0                   1         1   \n",
            "4     60     NaN         1           1                   1         1   \n",
            "..   ...     ...       ...         ...                 ...       ...   \n",
            "515   39     NaN         1           1                   1         0   \n",
            "516   48     NaN         1           1                   1         1   \n",
            "517   58     NaN         1           1                   1         1   \n",
            "518   32     NaN         0           0                   0         1   \n",
            "519   42     NaN         0           0                   0         0   \n",
            "\n",
            "     Polyphagia  Genital thrush  visual blurring  Itching  Irritability  \\\n",
            "0             0               0                0        1             0   \n",
            "1             0               0                1        0             0   \n",
            "2             1               0                0        1             0   \n",
            "3             1               1                0        1             0   \n",
            "4             1               0                1        1             1   \n",
            "..          ...             ...              ...      ...           ...   \n",
            "515           1               0                0        1             0   \n",
            "516           1               0                0        1             1   \n",
            "517           1               0                1        0             0   \n",
            "518           0               0                1        1             0   \n",
            "519           0               0                0        0             0   \n",
            "\n",
            "     delayed healing  partial paresis  muscle stiffness  Alopecia  Obesity  \\\n",
            "0                  1                0                 1         1        1   \n",
            "1                  0                1                 0         1        0   \n",
            "2                  1                0                 1         1        0   \n",
            "3                  1                0                 0         0        0   \n",
            "4                  1                1                 1         1        1   \n",
            "..               ...              ...               ...       ...      ...   \n",
            "515                1                1                 0         0        0   \n",
            "516                1                1                 0         0        0   \n",
            "517                0                1                 1         0        1   \n",
            "518                1                0                 0         1        0   \n",
            "519                0                0                 0         0        0   \n",
            "\n",
            "        class  \n",
            "0    Positive  \n",
            "1    Positive  \n",
            "2    Positive  \n",
            "3    Positive  \n",
            "4    Positive  \n",
            "..        ...  \n",
            "515  Positive  \n",
            "516  Positive  \n",
            "517  Positive  \n",
            "518  Negative  \n",
            "519  Negative  \n",
            "\n",
            "[520 rows x 17 columns]\n"
          ]
        }
      ]
    },
    {
      "cell_type": "code",
      "source": [
        "replace= replace.replace({'Positive': 1, 'Negative': 0})\n",
        "print(replace)"
      ],
      "metadata": {
        "colab": {
          "base_uri": "https://localhost:8080/"
        },
        "id": "KuR85tC4rtfK",
        "outputId": "0bf173c2-717c-4299-8cc4-bab5d8f4d1ff"
      },
      "execution_count": 9,
      "outputs": [
        {
          "output_type": "stream",
          "name": "stdout",
          "text": [
            "     Age  Gender  Polyuria  Polydipsia  sudden weight loss  weakness  \\\n",
            "0     40     NaN         0           1                   0         1   \n",
            "1     58     NaN         0           0                   0         1   \n",
            "2     41     NaN         1           0                   0         1   \n",
            "3     45     NaN         0           0                   1         1   \n",
            "4     60     NaN         1           1                   1         1   \n",
            "..   ...     ...       ...         ...                 ...       ...   \n",
            "515   39     NaN         1           1                   1         0   \n",
            "516   48     NaN         1           1                   1         1   \n",
            "517   58     NaN         1           1                   1         1   \n",
            "518   32     NaN         0           0                   0         1   \n",
            "519   42     NaN         0           0                   0         0   \n",
            "\n",
            "     Polyphagia  Genital thrush  visual blurring  Itching  Irritability  \\\n",
            "0             0               0                0        1             0   \n",
            "1             0               0                1        0             0   \n",
            "2             1               0                0        1             0   \n",
            "3             1               1                0        1             0   \n",
            "4             1               0                1        1             1   \n",
            "..          ...             ...              ...      ...           ...   \n",
            "515           1               0                0        1             0   \n",
            "516           1               0                0        1             1   \n",
            "517           1               0                1        0             0   \n",
            "518           0               0                1        1             0   \n",
            "519           0               0                0        0             0   \n",
            "\n",
            "     delayed healing  partial paresis  muscle stiffness  Alopecia  Obesity  \\\n",
            "0                  1                0                 1         1        1   \n",
            "1                  0                1                 0         1        0   \n",
            "2                  1                0                 1         1        0   \n",
            "3                  1                0                 0         0        0   \n",
            "4                  1                1                 1         1        1   \n",
            "..               ...              ...               ...       ...      ...   \n",
            "515                1                1                 0         0        0   \n",
            "516                1                1                 0         0        0   \n",
            "517                0                1                 1         0        1   \n",
            "518                1                0                 0         1        0   \n",
            "519                0                0                 0         0        0   \n",
            "\n",
            "     class  \n",
            "0        1  \n",
            "1        1  \n",
            "2        1  \n",
            "3        1  \n",
            "4        1  \n",
            "..     ...  \n",
            "515      1  \n",
            "516      1  \n",
            "517      1  \n",
            "518      0  \n",
            "519      0  \n",
            "\n",
            "[520 rows x 17 columns]\n"
          ]
        }
      ]
    }
  ]
}